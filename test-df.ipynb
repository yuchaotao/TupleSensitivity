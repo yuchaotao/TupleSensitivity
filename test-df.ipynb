{
 "cells": [
  {
   "cell_type": "code",
   "execution_count": 2,
   "metadata": {},
   "outputs": [
    {
     "name": "stderr",
     "output_type": "stream",
     "text": [
      "/home/yuchao/.local/lib/python3.6/site-packages/psycopg2/__init__.py:144: UserWarning: The psycopg2 wheel package will be renamed from release 2.8; in order to keep installing from binary please use \"pip install psycopg2-binary\" instead. For details see: <http://initd.org/psycopg/docs/install.html#binary-install-from-pypi>.\n",
      "  \"\"\")\n"
     ]
    }
   ],
   "source": [
    "import psycopg2 as pg2\n",
    "import psycopg2.extras\n",
    "import psycopg2.sql\n",
    "\n",
    "import pandas as pd\n",
    "import time as time\n",
    "\n",
    "from algo import run_sql"
   ]
  },
  {
   "cell_type": "code",
   "execution_count": 3,
   "metadata": {},
   "outputs": [],
   "source": [
    "conn = None\n",
    "arch = 'tpch'\n",
    "qfile_format = 'queries/{arch}/{q}.hypertree'\n",
    "\n",
    "def use_db(arch, scale):\n",
    "    global conn\n",
    "    dbname = 'arch-{arch}-scale-{scale}'.format(arch=arch, scale=scale)\n",
    "    conn = pg2.connect(dbname=dbname, host='localhost', user='duke', password='duke')"
   ]
  },
  {
   "cell_type": "code",
   "execution_count": 4,
   "metadata": {},
   "outputs": [],
   "source": [
    "def timeit(f):\n",
    "    def new_f(*args, **argkv):\n",
    "        time_start = time.time()\n",
    "        res = f(*args, **argkv)\n",
    "        time_finsh = time.time()\n",
    "        print('Time Elapsed: ', time_finsh - time_start)\n",
    "        return res\n",
    "    return new_f"
   ]
  },
  {
   "cell_type": "code",
   "execution_count": 5,
   "metadata": {},
   "outputs": [],
   "source": [
    "use_db('tpch', '1')"
   ]
  },
  {
   "cell_type": "code",
   "execution_count": 6,
   "metadata": {},
   "outputs": [],
   "source": [
    "@timeit\n",
    "def read_sql(sql):\n",
    "    return pd.read_sql(sql, conn)"
   ]
  },
  {
   "cell_type": "code",
   "execution_count": 64,
   "metadata": {},
   "outputs": [],
   "source": [
    "@timeit\n",
    "def read_tables():\n",
    "    BOTJOIN_node_q2_S_P = pd.read_sql('SELECT * FROM SUPPLIER NATURAL JOIN PART', conn)\n",
    "    BOTJOIN_node_q2_O_C = pd.read_sql('SELECT * FROM ORDERS NATURAL JOIN CUSTOMER', conn)\n",
    "    return BOTJOIN_node_q2_S_P, BOTJOIN_node_q2_O_C"
   ]
  },
  {
   "cell_type": "code",
   "execution_count": 1,
   "metadata": {},
   "outputs": [
    {
     "ename": "NameError",
     "evalue": "name 'read_tables' is not defined",
     "output_type": "error",
     "traceback": [
      "\u001b[0;31m---------------------------------------------------------------------------\u001b[0m",
      "\u001b[0;31mNameError\u001b[0m                                 Traceback (most recent call last)",
      "\u001b[0;32m<ipython-input-1-62bd3fc8b0c1>\u001b[0m in \u001b[0;36m<module>\u001b[0;34m()\u001b[0m\n\u001b[0;32m----> 1\u001b[0;31m \u001b[0mBOTJOIN_node_q2_S_P\u001b[0m\u001b[0;34m,\u001b[0m \u001b[0mBOTJOIN_node_q2_O_C\u001b[0m \u001b[0;34m=\u001b[0m \u001b[0mread_tables\u001b[0m\u001b[0;34m(\u001b[0m\u001b[0;34m)\u001b[0m\u001b[0;34m\u001b[0m\u001b[0m\n\u001b[0m",
      "\u001b[0;31mNameError\u001b[0m: name 'read_tables' is not defined"
     ]
    }
   ],
   "source": [
    "BOTJOIN_node_q2_S_P, BOTJOIN_node_q2_O_C = read_tables()"
   ]
  },
  {
   "cell_type": "code",
   "execution_count": 53,
   "metadata": {},
   "outputs": [
    {
     "data": {
      "text/plain": [
       "Index(['partkey', 'suppkey', 'nationkey', 'c_2_3'], dtype='object')"
      ]
     },
     "execution_count": 53,
     "metadata": {},
     "output_type": "execute_result"
    }
   ],
   "source": [
    "BOTJOIN_node_q2_S_P.columns"
   ]
  },
  {
   "cell_type": "code",
   "execution_count": 54,
   "metadata": {},
   "outputs": [],
   "source": [
    "@timeit\n",
    "def table_join():\n",
    "    return BOTJOIN_node_q2_S_P.join(BOTJOIN_node_q2_O_C.set_index('nationkey'), on='nationkey')"
   ]
  },
  {
   "cell_type": "code",
   "execution_count": 55,
   "metadata": {},
   "outputs": [
    {
     "name": "stdout",
     "output_type": "stream",
     "text": [
      "Time Elapsed:  0.13256072998046875\n"
     ]
    }
   ],
   "source": [
    "joined = table_join()"
   ]
  },
  {
   "cell_type": "code",
   "execution_count": null,
   "metadata": {},
   "outputs": [],
   "source": [
    "read_sql('SELECT * FROM BOTJOIN_node_q2_S_P NATURAL JOIN BOTJOIN_node_q2_O_C')"
   ]
  },
  {
   "cell_type": "code",
   "execution_count": null,
   "metadata": {},
   "outputs": [],
   "source": [
    "read_sql('SELECT * FROM SUPPLIER NATURAL JOIN PART')"
   ]
  },
  {
   "cell_type": "code",
   "execution_count": null,
   "metadata": {},
   "outputs": [],
   "source": []
  }
 ],
 "metadata": {
  "kernelspec": {
   "display_name": "Python 3",
   "language": "python",
   "name": "python3"
  },
  "language_info": {
   "codemirror_mode": {
    "name": "ipython",
    "version": 3
   },
   "file_extension": ".py",
   "mimetype": "text/x-python",
   "name": "python",
   "nbconvert_exporter": "python",
   "pygments_lexer": "ipython3",
   "version": "3.6.5"
  }
 },
 "nbformat": 4,
 "nbformat_minor": 2
}
