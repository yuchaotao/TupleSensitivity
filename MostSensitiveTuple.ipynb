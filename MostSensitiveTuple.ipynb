{
 "cells": [
  {
   "cell_type": "code",
   "execution_count": 1,
   "metadata": {},
   "outputs": [],
   "source": [
    "import pandas as pd\n",
    "import matplotlib.pyplot as plt\n",
    "import numpy as np\n",
    "from matplotlib import cm\n",
    "import re"
   ]
  },
  {
   "cell_type": "code",
   "execution_count": 16,
   "metadata": {},
   "outputs": [],
   "source": [
    "tsens_df = pd.read_csv('report', sep=r' \\| ', engine='python').query('algo==\"TSens\" & scale == 0.01 & query == \"q3\"')[['algo', 'all_table_tstar']]\n",
    "elastic_df = pd.read_csv('report_elastic', sep=r' \\| ', engine='python').query('algo==\"Elastic\" & scale == 0.01 & query == \"q3\"')[['algo', 'all_table_tstar']]"
   ]
  },
  {
   "cell_type": "code",
   "execution_count": 17,
   "metadata": {},
   "outputs": [
    {
     "data": {
      "text/html": [
       "<div>\n",
       "<style scoped>\n",
       "    .dataframe tbody tr th:only-of-type {\n",
       "        vertical-align: middle;\n",
       "    }\n",
       "\n",
       "    .dataframe tbody tr th {\n",
       "        vertical-align: top;\n",
       "    }\n",
       "\n",
       "    .dataframe thead th {\n",
       "        text-align: right;\n",
       "    }\n",
       "</style>\n",
       "<table border=\"1\" class=\"dataframe\">\n",
       "  <thead>\n",
       "    <tr style=\"text-align: right;\">\n",
       "      <th></th>\n",
       "      <th>algo</th>\n",
       "      <th>all_table_tstar</th>\n",
       "    </tr>\n",
       "  </thead>\n",
       "  <tbody>\n",
       "    <tr>\n",
       "      <td>37</td>\n",
       "      <td>TSens</td>\n",
       "      <td>[(REGION, [('regionkey', 2)], 647), (NATION, [...</td>\n",
       "    </tr>\n",
       "    <tr>\n",
       "      <td>8</td>\n",
       "      <td>Elastic</td>\n",
       "      <td>[(REGION, [('REGIONKEY', 3)], 120350000, 429),...</td>\n",
       "    </tr>\n",
       "  </tbody>\n",
       "</table>\n",
       "</div>"
      ],
      "text/plain": [
       "       algo                                    all_table_tstar\n",
       "37    TSens  [(REGION, [('regionkey', 2)], 647), (NATION, [...\n",
       "8   Elastic  [(REGION, [('REGIONKEY', 3)], 120350000, 429),..."
      ]
     },
     "execution_count": 17,
     "metadata": {},
     "output_type": "execute_result"
    }
   ],
   "source": [
    "df = pd.concat([tsens_df, elastic_df])\n",
    "df"
   ]
  },
  {
   "cell_type": "code",
   "execution_count": 45,
   "metadata": {},
   "outputs": [
    {
     "data": {
      "text/plain": [
       "\"[(REGION, [('REGIONKEY', 3)], 120350000, 429), (SUPPLIER, [('NATIONKEY', 10), ('SUPPKEY', 38)], 51000000, 25), (NATION, [('NATIONKEY', 24), ('REGIONKEY', 3)], 24070000, 129), (CUSTOMER, [('NATIONKEY', 24), ('CUSTKEY', 898)], 11200000, 9), (PART, [('PARTKEY', 286)], 2550000, 3), (PARTSUPP, [('SUPPKEY', 55), ('PARTKEY', 1798)], 637500, 0), (ORDERS, [('ORDERKEY', 31297), ('CUSTKEY', 898)], 350000, 0), (LINEITEM, [('ORDERKEY', 48993), ('SUPPKEY', 55), ('PARTKEY', 1798)], 50000, 0)]\""
      ]
     },
     "execution_count": 45,
     "metadata": {},
     "output_type": "execute_result"
    }
   ],
   "source": [
    "tsens_df = df.query('algo == \"TSens\"')['all_table_tstar'].tolist()[0]\n",
    "elstc_df = df.query('algo == \"Elastic\"')['all_table_tstar'].tolist()[0]\n",
    "elstc_df"
   ]
  },
  {
   "cell_type": "code",
   "execution_count": 47,
   "metadata": {},
   "outputs": [
    {
     "name": "stdout",
     "output_type": "stream",
     "text": [
      "REGION\tregionkey(2)\t647\tregionkey(3)\t120350000\t429\n",
      "NATION\tregionkey(4), nationkey(16)\t179\tnationkey(24), regionkey(3)\t24070000\t129\n",
      "SUPPLIER\tsuppkey(51), nationkey(3)\t46\tnationkey(10), suppkey(38)\t51000000\t25\n",
      "CUSTOMER\tnationkey(16), custkey(154)\t18\tnationkey(24), custkey(898)\t11200000\t9\n",
      "PART\tpartkey(1311)\t7\tpartkey(286)\t2550000\t3\n",
      "ORDERS\torderkey(57410), custkey(117)\t5\torderkey(31297), custkey(898)\t350000\t0\n",
      "PARTSUPP\tpartkey(1580), suppkey(81)\t4\tsuppkey(55), partkey(1798)\t637500\t0\n",
      "LINEITEM\t\t1\torderkey(48993), suppkey(55), partkey(1798)\t50000\t0\n"
     ]
    }
   ],
   "source": [
    "from collections import defaultdict\n",
    "relns_tstar = defaultdict(list)\n",
    "\n",
    "for all_table_tstar in [tsens_df, elstc_df]:\n",
    "    data = str(all_table_tstar)\n",
    "    data = re.sub(r'\\((\\w+),', r'(\"\\1\",', data)\n",
    "    data = eval(data)\n",
    "    for table_tstar in data:\n",
    "        if len(table_tstar) == 3:\n",
    "            reln, tupl, sens = table_tstar\n",
    "            tupl = ', '.join('%s(%s)'%(t[0], t[1]) for t in tupl)\n",
    "            relns_tstar[reln] += [tupl, sens]\n",
    "        else:\n",
    "            reln, tupl, esens, tsens = table_tstar\n",
    "            tupl = ', '.join('%s(%s)'%(t[0].lower(), t[1]) for t in tupl)\n",
    "            relns_tstar[reln] += [tupl, esens, tsens]\n",
    "            \n",
    "for reln, reln_tstar in relns_tstar.items():\n",
    "    print(reln, *reln_tstar, sep='\\t')\n",
    "        "
   ]
  },
  {
   "cell_type": "code",
   "execution_count": null,
   "metadata": {},
   "outputs": [],
   "source": []
  }
 ],
 "metadata": {
  "kernelspec": {
   "display_name": "Python 3",
   "language": "python",
   "name": "python3"
  },
  "language_info": {
   "codemirror_mode": {
    "name": "ipython",
    "version": 3
   },
   "file_extension": ".py",
   "mimetype": "text/x-python",
   "name": "python",
   "nbconvert_exporter": "python",
   "pygments_lexer": "ipython3",
   "version": "3.6.5"
  }
 },
 "nbformat": 4,
 "nbformat_minor": 2
}
